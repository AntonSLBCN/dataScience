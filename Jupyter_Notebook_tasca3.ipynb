{
 "cells": [
  {
   "cell_type": "markdown",
   "metadata": {},
   "source": [
    "# Tasca3_exercici1"
   ]
  },
  {
   "cell_type": "markdown",
   "metadata": {},
   "source": [
    "L'exercici consisteix a crear un programa que et classifiqui una variable numèrica en funció de l’escala Suspès/Aprovat/Notable/Excel·lent."
   ]
  },
  {
   "cell_type": "code",
   "execution_count": 3,
   "metadata": {},
   "outputs": [
    {
     "name": "stdout",
     "output_type": "stream",
     "text": [
      "La classificació ha estat de  Notable\n"
     ]
    }
   ],
   "source": [
    "def create_grades(nota):\n",
    "    if nota <4.99:\n",
    "        qualif = 'suspens'\n",
    "    if nota >5 and nota <6.99:\n",
    "        qualif = 'aprovat'\n",
    "    if nota <  7 and nota < 8.99:\n",
    "        qualif = 'Notable'\n",
    "    if nota > 9:\n",
    "        qualif = 'Notable'\n",
    "    return qualif\n",
    "    \n",
    "print('La classificació ha estat de ',create_grades(6))\n",
    "    "
   ]
  },
  {
   "cell_type": "markdown",
   "metadata": {},
   "source": [
    "# Tasca3_exercici2"
   ]
  },
  {
   "cell_type": "markdown",
   "metadata": {},
   "source": [
    "Crea un programa que et pregunti dos números. T’ha de mostrar un missatge dient si el primer és més gran, el segon és més gran o són iguals."
   ]
  },
  {
   "cell_type": "code",
   "execution_count": 4,
   "metadata": {},
   "outputs": [
    {
     "name": "stdout",
     "output_type": "stream",
     "text": [
      "Introdueix un numero 7\n",
      "Introdueix un segon numero 8\n",
      "7  es mes petit que  8\n"
     ]
    }
   ],
   "source": [
    "x1 = int(input('Introdueix un numero '))\n",
    "x2 = int(input('Introdueix un segon numero '))\n",
    "if x1 == x2:\n",
    "    print( x1 , ' y ', x2 ,'son iguals')\n",
    "elif x1 > x2:\n",
    "    print( x1 , ' es mes gran que ', x2 )\n",
    "elif x1 < x2:\n",
    "    print( x1 , ' es mes petit que ', x2 )"
   ]
  },
  {
   "cell_type": "markdown",
   "metadata": {},
   "source": [
    "# Tasca3_exercici3"
   ]
  },
  {
   "cell_type": "markdown",
   "metadata": {},
   "source": [
    "Crea un programa que et pregunti el teu nom, i et demani un número. Si el número és 0, hauria de mostrar un missatge d’error"
   ]
  },
  {
   "cell_type": "code",
   "execution_count": 5,
   "metadata": {},
   "outputs": [
    {
     "name": "stdout",
     "output_type": "stream",
     "text": [
      "Com et dius?Anton\n",
      "Introdueix un numero 9\n",
      "has picat  9 i el nom  AntonAntonAntonAntonAntonAntonAntonAntonAnton .....\n"
     ]
    }
   ],
   "source": [
    "import numpy as np\n",
    "nom=  (input('Com et dius?'))\n",
    "num = int(input('Introdueix un numero '))\n",
    "num2 = num\n",
    "if num != 0:\n",
    "    arr= np.array(nom * num)\n",
    "    print('has picat ', num ,'i el nom es ',arr,'.....')\n",
    "else:\n",
    "      print ('fatal error')\n",
    "    "
   ]
  },
  {
   "cell_type": "markdown",
   "metadata": {},
   "source": [
    "# Tasca3_exercici4"
   ]
  },
  {
   "cell_type": "markdown",
   "metadata": {},
   "source": [
    "Crea un programa que donada una llista qualsevol, et digui si es simètrica o no. Si ho és, que et digui quants elements té.*(Una lista como es simétrica si el primero y último coinciden.)*"
   ]
  },
  {
   "cell_type": "code",
   "execution_count": 6,
   "metadata": {},
   "outputs": [
    {
     "name": "stdout",
     "output_type": "stream",
     "text": [
      "llista no simetrica\n",
      "[2 3 9 1 3 3 7 9 2 6]\n",
      "10\n",
      "2 6\n"
     ]
    }
   ],
   "source": [
    "import numpy \n",
    "from numpy import random\n",
    "\n",
    "arr =random.randint(10, size=(10))\n",
    "primer = (arr[0])\n",
    "ultim = (arr[-1])\n",
    "length = len(arr)\n",
    "if int(primer) == int(ultim):\n",
    "    print('lista simetrica amb el num ', primer, 'con un ', length, 'elements')    \n",
    "else:\n",
    "    print('llista no simetrica')\n",
    "#check\n",
    "print(arr)\n",
    "print(length)\n",
    "print (primer, ultim)"
   ]
  },
  {
   "cell_type": "markdown",
   "metadata": {},
   "source": [
    "# Tasca3_exercici5"
   ]
  },
  {
   "cell_type": "markdown",
   "metadata": {},
   "source": [
    "Crea un programa que donada una llista, et digui quants números coincideixen amb la seva posició. Per exemple [3,4,2,0,2,3,6] el 2 i el 6 coincideixen."
   ]
  },
  {
   "cell_type": "code",
   "execution_count": 148,
   "metadata": {},
   "outputs": [
    {
     "name": "stdout",
     "output_type": "stream",
     "text": [
      "[4 0 0 8 5 4 2 5 8 7]\n",
      "El numero  8 coincideix amb la posició 8\n"
     ]
    }
   ],
   "source": [
    "import numpy #(no esta bien)\n",
    "lst =numpy.random.randint(10, size=(10))\n",
    "print(lst)\n",
    "for num, pos in list(enumerate(lst)):\n",
    "    if int(num) == int(pos):\n",
    "        print('El numero ', num,'coincideix amb la posició', pos)\n",
    "   "
   ]
  },
  {
   "cell_type": "code",
   "execution_count": null,
   "metadata": {},
   "outputs": [],
   "source": []
  },
  {
   "cell_type": "code",
   "execution_count": null,
   "metadata": {},
   "outputs": [],
   "source": []
  }
 ],
 "metadata": {
  "kernelspec": {
   "display_name": "Python 3",
   "language": "python",
   "name": "python3"
  },
  "language_info": {
   "codemirror_mode": {
    "name": "ipython",
    "version": 3
   },
   "file_extension": ".py",
   "mimetype": "text/x-python",
   "name": "python",
   "nbconvert_exporter": "python",
   "pygments_lexer": "ipython3",
   "version": "3.8.5"
  }
 },
 "nbformat": 4,
 "nbformat_minor": 4
}
