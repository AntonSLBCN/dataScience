{
 "cells": [
  {
   "cell_type": "markdown",
   "metadata": {},
   "source": [
    "# Tasca4_exercici1"
   ]
  },
  {
   "cell_type": "markdown",
   "metadata": {},
   "source": [
    "Crea una funció que donat un Array d’una dimensió, et faci un resum estadístic bàsic de les dades. Si detecta que l’array té més d’una dimensió, ha de mostrar un missatge d’error."
   ]
  },
  {
   "cell_type": "code",
   "execution_count": 11,
   "metadata": {},
   "outputs": [
    {
     "name": "stdout",
     "output_type": "stream",
     "text": [
      "Resum estadistic de la matriu\n",
      "La mediana es:  3.5\n",
      "La desviació es:  1.707825127659933\n",
      "La variació es:  2.9166666666666665\n",
      "La correlacción de datos:  [[1. 1.]\n",
      " [1. 1.]]\n",
      "El maximo del Array: 6\n",
      "El minimo del array: 1\n",
      "ERRor: Esta ,atriz tiene mas de  2\n"
     ]
    }
   ],
   "source": [
    "import numpy as np\n",
    "\n",
    "arry = np.array([[1,2,3,4,5,6], [1,2,3,4,5,6]])\n",
    "\n",
    "def stadistic_sumarise(matrix):\n",
    "    print('Resum estadistic de la matriu')\n",
    "    #print ('La mitjana es: ',matrix.mean())# media\n",
    "    print ('La mediana es: ',np.median(matrix)) #mediana\n",
    "    print ('La desviació es: ', np.std(matrix)) #Desviación atipica\n",
    "    print ('La variació es: ', np.var(matrix)) #Varianza \n",
    "    print('La correlacción de datos: ',np.corrcoef(matrix))\n",
    "    print('El maximo del Array:', np.max(matrix))\n",
    "    print('El minimo del array:', np.min(matrix))\n",
    "   \n",
    "    if arry.ndim > 1 :\n",
    "        print('ERROr: Esta matriz tiene mas de ', arry.ndim )\n",
    "    \n",
    "\n",
    "stadistic_sumarise(arry)\n"
   ]
  },
  {
   "cell_type": "markdown",
   "metadata": {},
   "source": [
    "# Tasca4_exercici2"
   ]
  },
  {
   "cell_type": "markdown",
   "metadata": {},
   "source": [
    "Crea una funció que et generi un quadrat NxN de nombres aleatoris entre el 0 i el 100"
   ]
  },
  {
   "cell_type": "code",
   "execution_count": 108,
   "metadata": {},
   "outputs": [
    {
     "name": "stdout",
     "output_type": "stream",
     "text": [
      "array  [24 17]\n"
     ]
    },
    {
     "data": {
      "text/plain": [
       "array([576, 289])"
      ]
     },
     "execution_count": 108,
     "metadata": {},
     "output_type": "execute_result"
    }
   ],
   "source": [
    "def sqrt_random_numbers(N):\n",
    "    print('array ', N)\n",
    "    return N * N\n",
    "    \n",
    "sqrt_random_numbers(N = np.random.randint(100 ,size=2))"
   ]
  },
  {
   "cell_type": "markdown",
   "metadata": {},
   "source": [
    "# Tasca4_exercici3"
   ]
  },
  {
   "cell_type": "markdown",
   "metadata": {},
   "source": [
    "Crea una funció que donada una taula de dues dimensions, et calculi els totals per fila i els totals per columna"
   ]
  },
  {
   "cell_type": "code",
   "execution_count": 107,
   "metadata": {},
   "outputs": [
    {
     "name": "stdout",
     "output_type": "stream",
     "text": [
      "suma columnes matriu  [ 2  4  6  8 10 12]\n",
      "Suma files matriu  [21 21]\n"
     ]
    }
   ],
   "source": [
    "myarr2 = np.array([[1,2,3,4,5,6],[1,2,3,4,5,6]])\n",
    "print('suma columnes matriu ', np.apply_along_axis(sum, 0 ,myarr2))\n",
    "print ('Suma files matriu ',  np.apply_along_axis(sum, 1 , myarr2))"
   ]
  },
  {
   "cell_type": "markdown",
   "metadata": {},
   "source": [
    "# Tasca4_exercici4"
   ]
  },
  {
   "cell_type": "markdown",
   "metadata": {},
   "source": [
    "Implementa manualment una funció que calculi el coeficient de correlació. Informa’t-en sobre els seus usos i interpretació."
   ]
  },
  {
   "cell_type": "markdown",
   "metadata": {},
   "source": [
    "Quan generen els models hem de veure si tenim un coeficient de correlació massa baix o massa alt (prop d’1 sería l’ideal)."
   ]
  },
  {
   "cell_type": "code",
   "execution_count": 123,
   "metadata": {},
   "outputs": [
    {
     "name": "stdout",
     "output_type": "stream",
     "text": [
      "[[1. 1. 1.]\n",
      " [1. 1. 1.]\n",
      " [1. 1. 1.]]\n"
     ]
    }
   ],
   "source": [
    "myarr3 = np.array([[1, 2, 3], [4, 5, 6],[7,8,9]])\n",
    "\n",
    "def Coe_correlacio(matrix):\n",
    "        return np.corrcoef(matrix)\n",
    "\n",
    "print(Coe_correlacio(myarr3))\n",
    "\n",
    "    "
   ]
  }
 ],
 "metadata": {
  "kernelspec": {
   "display_name": "Python 3",
   "language": "python",
   "name": "python3"
  },
  "language_info": {
   "codemirror_mode": {
    "name": "ipython",
    "version": 3
   },
   "file_extension": ".py",
   "mimetype": "text/x-python",
   "name": "python",
   "nbconvert_exporter": "python",
   "pygments_lexer": "ipython3",
   "version": "3.8.5"
  }
 },
 "nbformat": 4,
 "nbformat_minor": 4
}
